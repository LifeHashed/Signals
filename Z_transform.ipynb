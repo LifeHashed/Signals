{
  "nbformat": 4,
  "nbformat_minor": 0,
  "metadata": {
    "colab": {
      "provenance": [],
      "authorship_tag": "ABX9TyPJD6BPreB7OoQT3ZhywxBc",
      "include_colab_link": true
    },
    "kernelspec": {
      "name": "python3",
      "display_name": "Python 3"
    },
    "language_info": {
      "name": "python"
    }
  },
  "cells": [
    {
      "cell_type": "markdown",
      "metadata": {
        "id": "view-in-github",
        "colab_type": "text"
      },
      "source": [
        "<a href=\"https://colab.research.google.com/github/LifeHashed/Signals/blob/main/Z_transform.ipynb\" target=\"_parent\"><img src=\"https://colab.research.google.com/assets/colab-badge.svg\" alt=\"Open In Colab\"/></a>"
      ]
    },
    {
      "cell_type": "code",
      "source": [
        "!pip install sympy"
      ],
      "metadata": {
        "id": "ogtks4HZHC-s",
        "outputId": "865bc134-c6bd-4cb8-cca8-5391d7a444cb",
        "colab": {
          "base_uri": "https://localhost:8080/"
        }
      },
      "execution_count": 6,
      "outputs": [
        {
          "output_type": "stream",
          "name": "stdout",
          "text": [
            "Requirement already satisfied: sympy in /usr/local/lib/python3.10/dist-packages (1.12)\n",
            "Requirement already satisfied: mpmath>=0.19 in /usr/local/lib/python3.10/dist-packages (from sympy) (1.3.0)\n"
          ]
        }
      ]
    },
    {
      "cell_type": "code",
      "execution_count": 18,
      "metadata": {
        "id": "ZnnTAe1UE-kQ"
      },
      "outputs": [],
      "source": [
        "import matplotlib.pyplot as plt\n",
        "import numpy as np\n",
        "from sympy import sin,cos,symbols,summation,Heaviside,oo\n",
        "from sympy.abc import n"
      ]
    },
    {
      "cell_type": "code",
      "source": [
        "n,a,z = symbols(\"n ,a,z\")\n",
        "\n",
        "f1 = sin(n)\n",
        "f2 = a**n\n",
        "f3 = Heaviside(n-3)\n",
        "f4 = (2**(-2*n))*Heaviside(n)\n",
        "f5 = 2**(n+1)+2**(2-n)\n"
      ],
      "metadata": {
        "id": "YHQcnuiEF3_J"
      },
      "execution_count": 10,
      "outputs": []
    },
    {
      "cell_type": "code",
      "source": [],
      "metadata": {
        "id": "IZT5xPDHHoal"
      },
      "execution_count": null,
      "outputs": []
    },
    {
      "cell_type": "code",
      "source": [
        "\n",
        "f1_z = summation(f1*z**(-n),(n,-oo,oo))\n",
        "f1_z"
      ],
      "metadata": {
        "colab": {
          "base_uri": "https://localhost:8080/",
          "height": 67
        },
        "id": "0bSGGyRsGDZl",
        "outputId": "fb1ad118-1eec-4e83-d3ce-4a2af61dad39"
      },
      "execution_count": 19,
      "outputs": [
        {
          "output_type": "execute_result",
          "data": {
            "text/plain": [
              "Sum(sin(n)/z**n, (n, -oo, oo))"
            ],
            "text/latex": "$\\displaystyle \\sum_{n=-\\infty}^{\\infty} z^{- n} \\sin{\\left(n \\right)}$"
          },
          "metadata": {},
          "execution_count": 19
        }
      ]
    },
    {
      "cell_type": "code",
      "source": [
        "f2_z = summation(f2*z*(-n), (n, -oo, 0))+summation(f2*z*(-n), (n,0,oo))\n",
        "f2_z\n",
        "f2_z"
      ],
      "metadata": {
        "id": "xH4dg_p2Hwcu",
        "outputId": "6940be89-d408-4d57-c93f-cf8324d23225",
        "colab": {
          "base_uri": "https://localhost:8080/",
          "height": 78
        }
      },
      "execution_count": 23,
      "outputs": [
        {
          "output_type": "execute_result",
          "data": {
            "text/plain": [
              "-z*Piecewise((-1/(a*(1 - 1/a)**2), 1/Abs(a) < 1), (Sum(a**n*n, (n, -oo, 0)), True)) - z*Piecewise((a/(1 - a)**2, Abs(a) < 1), (Sum(a**n*n, (n, 0, oo)), True))"
            ],
            "text/latex": "$\\displaystyle - z \\left(\\begin{cases} - \\frac{1}{a \\left(1 - \\frac{1}{a}\\right)^{2}} & \\text{for}\\: \\frac{1}{\\left|{a}\\right|} < 1 \\\\\\sum_{n=-\\infty}^{0} a^{n} n & \\text{otherwise} \\end{cases}\\right) - z \\left(\\begin{cases} \\frac{a}{\\left(1 - a\\right)^{2}} & \\text{for}\\: \\left|{a}\\right| < 1 \\\\\\sum_{n=0}^{\\infty} a^{n} n & \\text{otherwise} \\end{cases}\\right)$"
          },
          "metadata": {},
          "execution_count": 23
        }
      ]
    },
    {
      "cell_type": "code",
      "source": [
        "\n",
        "f3_z = summation(f3*z**(-n), (n, -oo, oo))\n",
        "f3_z"
      ],
      "metadata": {
        "colab": {
          "base_uri": "https://localhost:8080/",
          "height": 67
        },
        "id": "-UCsKVw2GHdr",
        "outputId": "f0892c50-9a62-44e9-96eb-1b3b1a2f3258"
      },
      "execution_count": 13,
      "outputs": [
        {
          "output_type": "execute_result",
          "data": {
            "text/plain": [
              "Sum(Heaviside(n - 3)/z**n, (n, -oo, oo))"
            ],
            "text/latex": "$\\displaystyle \\sum_{n=-\\infty}^{\\infty} z^{- n} \\theta\\left(n - 3\\right)$"
          },
          "metadata": {},
          "execution_count": 13
        }
      ]
    },
    {
      "cell_type": "code",
      "source": [
        "\n",
        "f4_z = summation(f4*z**(-n), (n, -oo, oo))\n",
        "f4_z"
      ],
      "metadata": {
        "colab": {
          "base_uri": "https://localhost:8080/",
          "height": 67
        },
        "id": "xHzHEL41GOTF",
        "outputId": "ecdbb540-4fa8-46c5-fa26-9cb87771a410"
      },
      "execution_count": 14,
      "outputs": [
        {
          "output_type": "execute_result",
          "data": {
            "text/plain": [
              "Sum(Heaviside(n)/(2**(2*n)*z**n), (n, -oo, oo))"
            ],
            "text/latex": "$\\displaystyle \\sum_{n=-\\infty}^{\\infty} 2^{- 2 n} z^{- n} \\theta\\left(n\\right)$"
          },
          "metadata": {},
          "execution_count": 14
        }
      ]
    },
    {
      "cell_type": "code",
      "source": [
        "\n",
        "f5_z =summation(f5*z**(-n), (n, -oo, oo))\n",
        "f5_z"
      ],
      "metadata": {
        "colab": {
          "base_uri": "https://localhost:8080/",
          "height": 67
        },
        "id": "hS0vaFOIGYt3",
        "outputId": "8d23ec98-6d64-4134-f53d-51fb2b3a9a28"
      },
      "execution_count": 15,
      "outputs": [
        {
          "output_type": "execute_result",
          "data": {
            "text/plain": [
              "Sum((2**(2 - n) + 2**(n + 1))/z**n, (n, -oo, oo))"
            ],
            "text/latex": "$\\displaystyle \\sum_{n=-\\infty}^{\\infty} z^{- n} \\left(2^{2 - n} + 2^{n + 1}\\right)$"
          },
          "metadata": {},
          "execution_count": 15
        }
      ]
    }
  ]
}